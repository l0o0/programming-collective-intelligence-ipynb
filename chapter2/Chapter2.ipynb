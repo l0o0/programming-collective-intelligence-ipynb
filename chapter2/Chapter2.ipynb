{
 "cells": [
  {
   "cell_type": "markdown",
   "metadata": {},
   "source": [
    "# Chapter2 提供推荐\n",
    "\n",
    "下面从源码中导入相关的评论的数据."
   ]
  },
  {
   "cell_type": "code",
   "execution_count": 6,
   "metadata": {
    "collapsed": false
   },
   "outputs": [
    {
     "name": "stdout",
     "output_type": "stream",
     "text": [
      "{'Claudia Puig': {'Just My Luck': 3.0,\n",
      "                  'Snakes on a Plane': 3.5,\n",
      "                  'Superman Returns': 4.0,\n",
      "                  'The Night Listener': 4.5,\n",
      "                  'You, Me and Dupree': 2.5},\n",
      " 'Gene Seymour': {'Just My Luck': 1.5,\n",
      "                  'Lady in the Water': 3.0,\n",
      "                  'Snakes on a Plane': 3.5,\n",
      "                  'Superman Returns': 5.0,\n",
      "                  'The Night Listener': 3.0,\n",
      "                  'You, Me and Dupree': 3.5},\n",
      " 'Jack Matthews': {'Lady in the Water': 3.0,\n",
      "                   'Snakes on a Plane': 4.0,\n",
      "                   'Superman Returns': 5.0,\n",
      "                   'The Night Listener': 3.0,\n",
      "                   'You, Me and Dupree': 3.5},\n",
      " 'Lisa Rose': {'Just My Luck': 3.0,\n",
      "               'Lady in the Water': 2.5,\n",
      "               'Snakes on a Plane': 3.5,\n",
      "               'Superman Returns': 3.5,\n",
      "               'The Night Listener': 3.0,\n",
      "               'You, Me and Dupree': 2.5},\n",
      " 'Michael Phillips': {'Lady in the Water': 2.5,\n",
      "                      'Snakes on a Plane': 3.0,\n",
      "                      'Superman Returns': 3.5,\n",
      "                      'The Night Listener': 4.0},\n",
      " 'Mick LaSalle': {'Just My Luck': 2.0,\n",
      "                  'Lady in the Water': 3.0,\n",
      "                  'Snakes on a Plane': 4.0,\n",
      "                  'Superman Returns': 3.0,\n",
      "                  'The Night Listener': 3.0,\n",
      "                  'You, Me and Dupree': 2.0},\n",
      " 'Toby': {'Snakes on a Plane': 4.5,\n",
      "          'Superman Returns': 4.0,\n",
      "          'You, Me and Dupree': 1.0}}\n"
     ]
    }
   ],
   "source": [
    "import recommendations\n",
    "from pprint import pprint\n",
    "pprint(recommendations.critics)"
   ]
  },
  {
   "cell_type": "markdown",
   "metadata": {},
   "source": [
    "## 2.1寻找相近用户\n",
    "这里我们主要利用**欧几里德距离**和**皮尔逊相关度**来计算用户之间的相关性，根据相关性的高低来寻找相近用户\n",
    "### 2.1.1 欧几里德距离\n",
    "这里的[欧几里德距离](https://zh.wikipedia.org/zh-hans/%E6%AC%A7%E5%87%A0%E9%87%8C%E5%BE%97%E8%B7%9D%E7%A6%BB)就是我们上学的时候在直角坐标系里面求两点距离。"
   ]
  },
  {
   "cell_type": "code",
   "execution_count": 23,
   "metadata": {
    "collapsed": false
   },
   "outputs": [],
   "source": [
    "from math import sqrt\n",
    "sqrt(pow(4.5-4, 2) + pow(1-2,2))\n",
    "1/(1+sqrt(pow(4.5-4, 2) + pow(1-2,2)))\n",
    "\n",
    "def sim_distance(prefs, person1, person2):\n",
    "    share_items = set(prefs[person1])&set(prefs[person2])\n",
    "    if not share_items:\n",
    "        return 0\n",
    "    else:\n",
    "        sum_of_squares = sum([pow(prefs[person1][item]-prefs[person2][item],2) for item in share_items])\n",
    "        return 1/(1+sqrt(sum_of_squares))"
   ]
  },
  {
   "cell_type": "code",
   "execution_count": 24,
   "metadata": {
    "collapsed": false
   },
   "outputs": [
    {
     "data": {
      "text/plain": [
       "0.29429805508554946"
      ]
     },
     "execution_count": 24,
     "metadata": {},
     "output_type": "execute_result"
    }
   ],
   "source": [
    "sim_distance(recommendations.critics, \"Lisa Rose\", \"Gene Seymour\")"
   ]
  },
  {
   "cell_type": "markdown",
   "metadata": {},
   "source": [
    "### 2.1.2 皮尔逊相关性\n",
    "皮尔逊相关性系数用于评价两组数据与某一直线拟合程序。其计算过程相比上面的欧几里德距离复杂，在数据与平均水平偏差比较大的时候，得到的结果会比欧几里德距离更好。因为皮尔逊相关性在计算时，会修正“夸大分值”的情况，而在欧几里德距离计算中，夸大分值会拉大距离结果。网上关于皮尔逊相关性系数的[链接1](https://www.zhihu.com/question/19734616)，[链接2](https://segmentfault.com/q/1010000000094674)。"
   ]
  },
  {
   "cell_type": "code",
   "execution_count": 33,
   "metadata": {
    "collapsed": true
   },
   "outputs": [],
   "source": [
    "def sim_pearson(prefs, p1, p2):\n",
    "    share_items = set(prefs[p1])&set(prefs[p2])\n",
    "    if len(share_items) == 0:\n",
    "        return 1\n",
    "    \n",
    "    n = len(share_items)\n",
    "    sum1 = sum([prefs[p1][it] for it in share_items])\n",
    "    sum2 = sum([prefs[p2][it] for it in share_items])\n",
    "    \n",
    "    sum1Sq = sum([pow(prefs[p1][it],2) for it in share_items])\n",
    "    sum2Sq = sum([pow(prefs[p2][it],2) for it in share_items])\n",
    "    \n",
    "    pSum = sum([prefs[p1][it]*prefs[p2][it] for it in share_items])\n",
    "    \n",
    "    num = pSum - (sum1*sum2/n)\n",
    "    den = sqrt( (sum1Sq-pow(sum1,2)/n) * (sum2Sq-pow(sum2,2)/n) )\n",
    "    if den == 0:\n",
    "        return 0\n",
    "    return num/den"
   ]
  },
  {
   "cell_type": "code",
   "execution_count": 34,
   "metadata": {
    "collapsed": false
   },
   "outputs": [
    {
     "data": {
      "text/plain": [
       "0.39605901719066977"
      ]
     },
     "execution_count": 34,
     "metadata": {},
     "output_type": "execute_result"
    }
   ],
   "source": [
    "sim_pearson(recommendations.critics, \"Lisa Rose\", \"Gene Seymour\")"
   ]
  }
 ],
 "metadata": {
  "kernelspec": {
   "display_name": "Python 2",
   "language": "python",
   "name": "python2"
  },
  "language_info": {
   "codemirror_mode": {
    "name": "ipython",
    "version": 2
   },
   "file_extension": ".py",
   "mimetype": "text/x-python",
   "name": "python",
   "nbconvert_exporter": "python",
   "pygments_lexer": "ipython2",
   "version": "2.7.12"
  }
 },
 "nbformat": 4,
 "nbformat_minor": 2
}
