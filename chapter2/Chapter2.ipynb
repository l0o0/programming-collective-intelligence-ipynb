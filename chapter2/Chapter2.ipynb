{
 "cells": [
  {
   "cell_type": "markdown",
   "metadata": {},
   "source": [
    "# Chapter2 提供推荐\n",
    "\n",
    "下面从源码中导入相关的评论的数据."
   ]
  },
  {
   "cell_type": "code",
   "execution_count": 6,
   "metadata": {
    "collapsed": false,
    "scrolled": true
   },
   "outputs": [
    {
     "name": "stdout",
     "output_type": "stream",
     "text": [
      "{'Claudia Puig': {'Just My Luck': 3.0,\n",
      "                  'Snakes on a Plane': 3.5,\n",
      "                  'Superman Returns': 4.0,\n",
      "                  'The Night Listener': 4.5,\n",
      "                  'You, Me and Dupree': 2.5},\n",
      " 'Gene Seymour': {'Just My Luck': 1.5,\n",
      "                  'Lady in the Water': 3.0,\n",
      "                  'Snakes on a Plane': 3.5,\n",
      "                  'Superman Returns': 5.0,\n",
      "                  'The Night Listener': 3.0,\n",
      "                  'You, Me and Dupree': 3.5},\n",
      " 'Jack Matthews': {'Lady in the Water': 3.0,\n",
      "                   'Snakes on a Plane': 4.0,\n",
      "                   'Superman Returns': 5.0,\n",
      "                   'The Night Listener': 3.0,\n",
      "                   'You, Me and Dupree': 3.5},\n",
      " 'Lisa Rose': {'Just My Luck': 3.0,\n",
      "               'Lady in the Water': 2.5,\n",
      "               'Snakes on a Plane': 3.5,\n",
      "               'Superman Returns': 3.5,\n",
      "               'The Night Listener': 3.0,\n",
      "               'You, Me and Dupree': 2.5},\n",
      " 'Michael Phillips': {'Lady in the Water': 2.5,\n",
      "                      'Snakes on a Plane': 3.0,\n",
      "                      'Superman Returns': 3.5,\n",
      "                      'The Night Listener': 4.0},\n",
      " 'Mick LaSalle': {'Just My Luck': 2.0,\n",
      "                  'Lady in the Water': 3.0,\n",
      "                  'Snakes on a Plane': 4.0,\n",
      "                  'Superman Returns': 3.0,\n",
      "                  'The Night Listener': 3.0,\n",
      "                  'You, Me and Dupree': 2.0},\n",
      " 'Toby': {'Snakes on a Plane': 4.5,\n",
      "          'Superman Returns': 4.0,\n",
      "          'You, Me and Dupree': 1.0}}\n"
     ]
    }
   ],
   "source": [
    "import recommendations\n",
    "from pprint import pprint\n",
    "pprint(recommendations.critics)"
   ]
  },
  {
   "cell_type": "markdown",
   "metadata": {},
   "source": [
    "## 2.1寻找相近用户\n",
    "这里我们主要利用**欧几里德距离**和**皮尔逊相关度**来计算用户之间的相关性，根据相关性的高低来寻找相近用户\n",
    "### 2.1.1 欧几里德距离\n",
    "这里的[欧几里德距离](https://zh.wikipedia.org/zh-hans/%E6%AC%A7%E5%87%A0%E9%87%8C%E5%BE%97%E8%B7%9D%E7%A6%BB)就是我们上学的时候在直角坐标系里面求两点距离。"
   ]
  },
  {
   "cell_type": "code",
   "execution_count": 7,
   "metadata": {
    "collapsed": false
   },
   "outputs": [],
   "source": [
    "from math import sqrt\n",
    "sqrt(pow(4.5-4, 2) + pow(1-2,2))\n",
    "1/(1+sqrt(pow(4.5-4, 2) + pow(1-2,2)))\n",
    "\n",
    "def sim_distance(prefs, person1, person2):\n",
    "    share_items = set(prefs[person1])&set(prefs[person2])\n",
    "    if not share_items:\n",
    "        return 0\n",
    "    else:\n",
    "        sum_of_squares = sum([pow(prefs[person1][item]-prefs[person2][item],2) for item in share_items])\n",
    "        return 1/(1+sqrt(sum_of_squares))"
   ]
  },
  {
   "cell_type": "code",
   "execution_count": 8,
   "metadata": {
    "collapsed": false
   },
   "outputs": [
    {
     "data": {
      "text/plain": [
       "0.29429805508554946"
      ]
     },
     "execution_count": 8,
     "metadata": {},
     "output_type": "execute_result"
    }
   ],
   "source": [
    "sim_distance(recommendations.critics, \"Lisa Rose\", \"Gene Seymour\")"
   ]
  },
  {
   "cell_type": "markdown",
   "metadata": {},
   "source": [
    "### 2.1.2 皮尔逊相关性\n",
    "皮尔逊相关性系数用于评价两组数据与某一直线拟合程序。其计算过程相比上面的欧几里德距离复杂，在数据与平均水平偏差比较大的时候，得到的结果会比欧几里德距离更好。因为皮尔逊相关性在计算时，会修正“夸大分值”的情况，而在欧几里德距离计算中，夸大分值会拉大距离结果。网上关于皮尔逊相关性系数的[链接1](https://www.zhihu.com/question/19734616)，[链接2](https://segmentfault.com/q/1010000000094674)。"
   ]
  },
  {
   "cell_type": "code",
   "execution_count": 9,
   "metadata": {
    "collapsed": true
   },
   "outputs": [],
   "source": [
    "def sim_pearson(prefs, p1, p2):\n",
    "    share_items = set(prefs[p1])&set(prefs[p2])\n",
    "    if len(share_items) == 0:\n",
    "        return 1\n",
    "    \n",
    "    n = len(share_items)\n",
    "    sum1 = sum([prefs[p1][it] for it in share_items])\n",
    "    sum2 = sum([prefs[p2][it] for it in share_items])\n",
    "    \n",
    "    sum1Sq = sum([pow(prefs[p1][it],2) for it in share_items])\n",
    "    sum2Sq = sum([pow(prefs[p2][it],2) for it in share_items])\n",
    "    \n",
    "    pSum = sum([prefs[p1][it]*prefs[p2][it] for it in share_items])\n",
    "    \n",
    "    num = pSum - (sum1*sum2/n)\n",
    "    den = sqrt( (sum1Sq-pow(sum1,2)/n) * (sum2Sq-pow(sum2,2)/n) )\n",
    "    if den == 0:\n",
    "        return 0\n",
    "    return num/den"
   ]
  },
  {
   "cell_type": "code",
   "execution_count": 10,
   "metadata": {
    "collapsed": false
   },
   "outputs": [
    {
     "data": {
      "text/plain": [
       "0.39605901719066977"
      ]
     },
     "execution_count": 10,
     "metadata": {},
     "output_type": "execute_result"
    }
   ],
   "source": [
    "sim_pearson(recommendations.critics, \"Lisa Rose\", \"Gene Seymour\")"
   ]
  },
  {
   "cell_type": "markdown",
   "metadata": {},
   "source": [
    "其他相似度的计算方法有**Jaccard系数**，**曼哈顿系数**等。几种常用相似性方法的Python实现[链接](http://dataaspirant.com/2015/04/11/five-most-popular-similarity-measures-implementation-in-python/)."
   ]
  },
  {
   "cell_type": "markdown",
   "metadata": {},
   "source": [
    "## 2.2 为评论者打分\n",
    "根据上面写的相似度评估方法，我们来寻找指定人员与其他人之间的匹配程序，找出最佳匹配人。"
   ]
  },
  {
   "cell_type": "code",
   "execution_count": 43,
   "metadata": {
    "collapsed": false
   },
   "outputs": [],
   "source": [
    "def topMatches(prefs, person, n=5, similarity=sim_pearson):\n",
    "    scores = [(similarity(prefs, person, other), other) for other in prefs if other!=person]\n",
    "    scores.sort()\n",
    "    scores.reverse()\n",
    "    return scores[0:n]"
   ]
  },
  {
   "cell_type": "code",
   "execution_count": 27,
   "metadata": {
    "collapsed": false,
    "scrolled": true
   },
   "outputs": [
    {
     "name": "stdout",
     "output_type": "stream",
     "text": [
      "[(0.4, 'Mick LaSalle'), (0.38742588672279304, 'Michael Phillips'), (0.3567891723253309, 'Claudia Puig'), (0.3483314773547883, 'Lisa Rose'), (0.2674788903885893, 'Jack Matthews')]\n",
      "[(0.9912407071619299, 'Lisa Rose'), (0.9244734516419049, 'Mick LaSalle'), (0.8934051474415647, 'Claudia Puig'), (0.66284898035987, 'Jack Matthews'), (0.38124642583151164, 'Gene Seymour')]\n"
     ]
    }
   ],
   "source": [
    "# 找出与Toby品位匹配最高的3个人\n",
    "sim_pearson(recommendations.critics, 'Toby', 'Lisa Rose')\n",
    "print topMatches(recommendations.critics, 'Toby')\n",
    "print topMatches(recommendations.critics, 'Toby', similarity=sim_pearson)"
   ]
  },
  {
   "cell_type": "markdown",
   "metadata": {},
   "source": [
    "可以看到不同的相似性分析方法，得到的结果也是不一样的，而且感觉差异还是挺大的。\n",
    "## 2.3 推荐物品\n",
    "上面的例子，我们可以获得与自身品位相似的用户，可以通过查找他看过的电影来寻找我们感兴趣的电影。可是如果有一部电影没有被他们看过，而我们又刚好感兴趣时该怎么办呢。这时就需要一个方法把所有感兴趣的电影列出来。采用的计算方法是以每个人的相似度为权重系数，乘以该人对电影的评分得到一个经过矫正后的评分，再把这些人的矫正评分求和。为了防止因为某部电影因为评论人数多而对结果造成影响，还需要把矫正评分的求和结果除以每人相似度的求和。"
   ]
  },
  {
   "cell_type": "code",
   "execution_count": 32,
   "metadata": {
    "collapsed": true
   },
   "outputs": [],
   "source": [
    "def getRecommendations(prefs, person, similarity=sim_pearson):\n",
    "    totals = {}\n",
    "    simSums = {}\n",
    "    for other in prefs:\n",
    "        if other == person:\n",
    "            continue\n",
    "        sim = similarity(prefs, person, other)\n",
    "        \n",
    "        if sim<=0:\n",
    "            continue\n",
    "        for item in prefs[other]:\n",
    "            if item not in prefs[person] or prefs[person][item] == 0:\n",
    "                totals.setdefault(item,0)\n",
    "                totals[item]+=prefs[other][item]*sim\n",
    "                simSums.setdefault(item,0)\n",
    "                simSums[item]+=sim\n",
    "    rankings=[(total/simSums[item], item) for item, total in totals.items()]\n",
    "    rankings.sort()\n",
    "    rankings.reverse()\n",
    "    return rankings"
   ]
  },
  {
   "cell_type": "code",
   "execution_count": 33,
   "metadata": {
    "collapsed": false
   },
   "outputs": [
    {
     "data": {
      "text/plain": [
       "[(3.3477895267131013, 'The Night Listener'),\n",
       " (2.8325499182641614, 'Lady in the Water'),\n",
       " (2.5309807037655645, 'Just My Luck')]"
      ]
     },
     "execution_count": 33,
     "metadata": {},
     "output_type": "execute_result"
    }
   ],
   "source": [
    "getRecommendations(recommendations.critics, 'Toby')"
   ]
  },
  {
   "cell_type": "markdown",
   "metadata": {},
   "source": [
    "上面得到的列表，我们可以理解成Toby对没看过的电影可能打出的评分。打分高的电影，当然更适合Toby的口味。"
   ]
  },
  {
   "cell_type": "markdown",
   "metadata": {},
   "source": [
    "## 2.4 匹配物品  \n",
    "前面我们已经知道如何查找品位相似的人，下面是想找相似商品。大体的思路是把前面推荐人的算法里面，把人和物品的位置交换一下。首先需要把`recommendations.critics`里面保存的信息转换一下。"
   ]
  },
  {
   "cell_type": "code",
   "execution_count": 36,
   "metadata": {
    "collapsed": true
   },
   "outputs": [],
   "source": [
    "def transformPrefs(prefs):\n",
    "    result={}\n",
    "    for person in prefs:\n",
    "        for item in prefs[person]:\n",
    "            result.setdefault(item,{})\n",
    "            result[item][person] = prefs[person][item]\n",
    "    return result       "
   ]
  },
  {
   "cell_type": "code",
   "execution_count": 44,
   "metadata": {
    "collapsed": false
   },
   "outputs": [
    {
     "name": "stdout",
     "output_type": "stream",
     "text": [
      "[(0.6579516949597695, 'You, Me and Dupree'), (0.4879500364742689, 'Lady in the Water'), (0.11180339887498941, 'Snakes on a Plane'), (-0.1798471947990544, 'The Night Listener'), (-0.42289003161103106, 'Just My Luck')]\n",
      "[(4.0, 'Michael Phillips'), (3.0, 'Jack Matthews')]\n"
     ]
    }
   ],
   "source": [
    "movies = transformPrefs(recommendations.critics)\n",
    "#print movies\n",
    "print topMatches(movies, 'Superman Returns', similarity=sim_pearson)\n",
    "print getRecommendations(movies, 'Just My Luck')\n"
   ]
  },
  {
   "cell_type": "markdown",
   "metadata": {},
   "source": [
    "书上说，把人和物品对调并不是总能得到有意义的结果，但多大数情况下有助于我们做出有意义的对比。"
   ]
  },
  {
   "cell_type": "markdown",
   "metadata": {},
   "source": [
    "## 2.5 构建基于del.icio.us的链接推荐系统\n",
    "[Delicious](https://del.icio.us/)是一个链接推荐网站，你需要把你感兴趣的链接张贴上去，然后会给你推荐你可能感兴趣的链接。主要思路类似上面的物品推荐功能。  \n",
    "这里我们直接利用现成的Python API来获取数据，在下面的代码，直接导入。"
   ]
  },
  {
   "cell_type": "code",
   "execution_count": 45,
   "metadata": {
    "collapsed": false
   },
   "outputs": [
    {
     "ename": "ImportError",
     "evalue": "No module named feedparser",
     "output_type": "error",
     "traceback": [
      "\u001b[0;31m---------------------------------------------------------------------------\u001b[0m",
      "\u001b[0;31mImportError\u001b[0m                               Traceback (most recent call last)",
      "\u001b[0;32m<ipython-input-45-8e66defe0e9a>\u001b[0m in \u001b[0;36m<module>\u001b[0;34m()\u001b[0m\n\u001b[0;32m----> 1\u001b[0;31m \u001b[0;32mimport\u001b[0m \u001b[0mpydelicious\u001b[0m\u001b[0;34m\u001b[0m\u001b[0m\n\u001b[0m\u001b[1;32m      2\u001b[0m \u001b[0mpydelicious\u001b[0m\u001b[0;34m.\u001b[0m\u001b[0mget_popular\u001b[0m\u001b[0;34m(\u001b[0m\u001b[0mtag\u001b[0m\u001b[0;34m=\u001b[0m\u001b[0;34m'programming'\u001b[0m\u001b[0;34m)\u001b[0m\u001b[0;34m\u001b[0m\u001b[0m\n",
      "\u001b[0;32m/lustre/project/og02/linxingzhong/workspace/programming-collective-intelligence-ipynb/chapter2/pydelicious.py\u001b[0m in \u001b[0;36m<module>\u001b[0;34m()\u001b[0m\n\u001b[1;32m     96\u001b[0m     \u001b[0;32mfrom\u001b[0m  \u001b[0mxml\u001b[0m\u001b[0;34m.\u001b[0m\u001b[0metree\u001b[0m\u001b[0;34m.\u001b[0m\u001b[0mElementTree\u001b[0m \u001b[0;32mimport\u001b[0m \u001b[0mparse\u001b[0m \u001b[0;32mas\u001b[0m \u001b[0mparse_xml\u001b[0m\u001b[0;34m\u001b[0m\u001b[0m\n\u001b[1;32m     97\u001b[0m \u001b[0;34m\u001b[0m\u001b[0m\n\u001b[0;32m---> 98\u001b[0;31m \u001b[0;32mimport\u001b[0m \u001b[0mfeedparser\u001b[0m\u001b[0;34m\u001b[0m\u001b[0m\n\u001b[0m\u001b[1;32m     99\u001b[0m \u001b[0;34m\u001b[0m\u001b[0m\n\u001b[1;32m    100\u001b[0m \u001b[0;34m\u001b[0m\u001b[0m\n",
      "\u001b[0;31mImportError\u001b[0m: No module named feedparser"
     ]
    }
   ],
   "source": [
    "import pydelicious\n",
    "pydelicious.get_popular(tag='programming')"
   ]
  }
 ],
 "metadata": {
  "kernelspec": {
   "display_name": "Python 2",
   "language": "python",
   "name": "python2"
  },
  "language_info": {
   "codemirror_mode": {
    "name": "ipython",
    "version": 2
   },
   "file_extension": ".py",
   "mimetype": "text/x-python",
   "name": "python",
   "nbconvert_exporter": "python",
   "pygments_lexer": "ipython2",
   "version": "2.7.10"
  }
 },
 "nbformat": 4,
 "nbformat_minor": 2
}
