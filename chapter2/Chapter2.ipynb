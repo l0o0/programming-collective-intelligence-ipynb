{
 "cells": [
  {
   "cell_type": "markdown",
   "metadata": {},
   "source": [
    "# Chapter2 提供推荐\n",
    "\n",
    "下面从源码中导入相关的评论的数据."
   ]
  },
  {
   "cell_type": "code",
   "execution_count": 2,
   "metadata": {
    "collapsed": false,
    "scrolled": true
   },
   "outputs": [
    {
     "name": "stdout",
     "output_type": "stream",
     "text": [
      "{'Claudia Puig': {'Just My Luck': 3.0,\n",
      "                  'Snakes on a Plane': 3.5,\n",
      "                  'Superman Returns': 4.0,\n",
      "                  'The Night Listener': 4.5,\n",
      "                  'You, Me and Dupree': 2.5},\n",
      " 'Gene Seymour': {'Just My Luck': 1.5,\n",
      "                  'Lady in the Water': 3.0,\n",
      "                  'Snakes on a Plane': 3.5,\n",
      "                  'Superman Returns': 5.0,\n",
      "                  'The Night Listener': 3.0,\n",
      "                  'You, Me and Dupree': 3.5},\n",
      " 'Jack Matthews': {'Lady in the Water': 3.0,\n",
      "                   'Snakes on a Plane': 4.0,\n",
      "                   'Superman Returns': 5.0,\n",
      "                   'The Night Listener': 3.0,\n",
      "                   'You, Me and Dupree': 3.5},\n",
      " 'Lisa Rose': {'Just My Luck': 3.0,\n",
      "               'Lady in the Water': 2.5,\n",
      "               'Snakes on a Plane': 3.5,\n",
      "               'Superman Returns': 3.5,\n",
      "               'The Night Listener': 3.0,\n",
      "               'You, Me and Dupree': 2.5},\n",
      " 'Michael Phillips': {'Lady in the Water': 2.5,\n",
      "                      'Snakes on a Plane': 3.0,\n",
      "                      'Superman Returns': 3.5,\n",
      "                      'The Night Listener': 4.0},\n",
      " 'Mick LaSalle': {'Just My Luck': 2.0,\n",
      "                  'Lady in the Water': 3.0,\n",
      "                  'Snakes on a Plane': 4.0,\n",
      "                  'Superman Returns': 3.0,\n",
      "                  'The Night Listener': 3.0,\n",
      "                  'You, Me and Dupree': 2.0},\n",
      " 'Toby': {'Snakes on a Plane': 4.5,\n",
      "          'Superman Returns': 4.0,\n",
      "          'You, Me and Dupree': 1.0}}\n"
     ]
    }
   ],
   "source": [
    "import recommendations\n",
    "from pprint import pprint\n",
    "pprint(recommendations.critics)"
   ]
  },
  {
   "cell_type": "markdown",
   "metadata": {},
   "source": [
    "## 2.1寻找相近用户\n",
    "这里我们主要利用**欧几里德距离**和**皮尔逊相关度**来计算用户之间的相关性，根据相关性的高低来寻找相近用户\n",
    "### 2.1.1 欧几里德距离\n",
    "这里的[欧几里德距离](https://zh.wikipedia.org/zh-hans/%E6%AC%A7%E5%87%A0%E9%87%8C%E5%BE%97%E8%B7%9D%E7%A6%BB)就是我们上学的时候在直角坐标系里面求两点距离。这里我们取距离+1的倒数来进行判断，距离越近，越接近于1。"
   ]
  },
  {
   "cell_type": "code",
   "execution_count": 7,
   "metadata": {
    "collapsed": false
   },
   "outputs": [],
   "source": [
    "from math import sqrt\n",
    "sqrt(pow(4.5-4, 2) + pow(1-2,2))\n",
    "1/(1+sqrt(pow(4.5-4, 2) + pow(1-2,2)))\n",
    "\n",
    "def sim_distance(prefs, person1, person2):\n",
    "    share_items = set(prefs[person1])&set(prefs[person2])\n",
    "    if not share_items:\n",
    "        return 0\n",
    "    else:\n",
    "        sum_of_squares = sum([pow(prefs[person1][item]-prefs[person2][item],2) for item in share_items])\n",
    "        return 1/(1+sqrt(sum_of_squares))"
   ]
  },
  {
   "cell_type": "code",
   "execution_count": 8,
   "metadata": {
    "collapsed": false
   },
   "outputs": [
    {
     "data": {
      "text/plain": [
       "0.29429805508554946"
      ]
     },
     "execution_count": 8,
     "metadata": {},
     "output_type": "execute_result"
    }
   ],
   "source": [
    "sim_distance(recommendations.critics, \"Lisa Rose\", \"Gene Seymour\")"
   ]
  },
  {
   "cell_type": "markdown",
   "metadata": {},
   "source": [
    "### 2.1.2 皮尔逊相关性\n",
    "皮尔逊相关性系数用于评价两组数据与某一直线拟合程序。其计算过程相比上面的欧几里德距离复杂，在数据与平均水平偏差比较大的时候，得到的结果会比欧几里德距离更好。因为皮尔逊相关性在计算时，会修正“夸大分值”的情况，而在欧几里德距离计算中，夸大分值会拉大距离结果。网上关于皮尔逊相关性系数的[链接1](https://www.zhihu.com/question/19734616)，[链接2](https://segmentfault.com/q/1010000000094674)。"
   ]
  },
  {
   "cell_type": "code",
   "execution_count": 9,
   "metadata": {
    "collapsed": true
   },
   "outputs": [],
   "source": [
    "def sim_pearson(prefs, p1, p2):\n",
    "    share_items = set(prefs[p1])&set(prefs[p2])\n",
    "    if len(share_items) == 0:\n",
    "        return 1\n",
    "    \n",
    "    n = len(share_items)\n",
    "    sum1 = sum([prefs[p1][it] for it in share_items])\n",
    "    sum2 = sum([prefs[p2][it] for it in share_items])\n",
    "    \n",
    "    sum1Sq = sum([pow(prefs[p1][it],2) for it in share_items])\n",
    "    sum2Sq = sum([pow(prefs[p2][it],2) for it in share_items])\n",
    "    \n",
    "    pSum = sum([prefs[p1][it]*prefs[p2][it] for it in share_items])\n",
    "    \n",
    "    num = pSum - (sum1*sum2/n)\n",
    "    den = sqrt( (sum1Sq-pow(sum1,2)/n) * (sum2Sq-pow(sum2,2)/n) )\n",
    "    if den == 0:\n",
    "        return 0\n",
    "    return num/den"
   ]
  },
  {
   "cell_type": "code",
   "execution_count": 10,
   "metadata": {
    "collapsed": false
   },
   "outputs": [
    {
     "data": {
      "text/plain": [
       "0.39605901719066977"
      ]
     },
     "execution_count": 10,
     "metadata": {},
     "output_type": "execute_result"
    }
   ],
   "source": [
    "sim_pearson(recommendations.critics, \"Lisa Rose\", \"Gene Seymour\")"
   ]
  },
  {
   "cell_type": "markdown",
   "metadata": {},
   "source": [
    "其他相似度的计算方法有**Jaccard系数**，**曼哈顿系数**等。几种常用相似性方法的Python实现[链接](http://dataaspirant.com/2015/04/11/five-most-popular-similarity-measures-implementation-in-python/)."
   ]
  },
  {
   "cell_type": "markdown",
   "metadata": {},
   "source": [
    "## 2.2 为评论者打分\n",
    "根据上面写的相似度评估方法，我们来寻找指定人员与其他人之间的匹配程序，找出最佳匹配人。"
   ]
  },
  {
   "cell_type": "code",
   "execution_count": 43,
   "metadata": {
    "collapsed": false
   },
   "outputs": [],
   "source": [
    "def topMatches(prefs, person, n=5, similarity=sim_pearson):\n",
    "    scores = [(similarity(prefs, person, other), other) for other in prefs if other!=person]\n",
    "    scores.sort()\n",
    "    scores.reverse()\n",
    "    return scores[0:n]"
   ]
  },
  {
   "cell_type": "code",
   "execution_count": 27,
   "metadata": {
    "collapsed": false,
    "scrolled": true
   },
   "outputs": [
    {
     "name": "stdout",
     "output_type": "stream",
     "text": [
      "[(0.4, 'Mick LaSalle'), (0.38742588672279304, 'Michael Phillips'), (0.3567891723253309, 'Claudia Puig'), (0.3483314773547883, 'Lisa Rose'), (0.2674788903885893, 'Jack Matthews')]\n",
      "[(0.9912407071619299, 'Lisa Rose'), (0.9244734516419049, 'Mick LaSalle'), (0.8934051474415647, 'Claudia Puig'), (0.66284898035987, 'Jack Matthews'), (0.38124642583151164, 'Gene Seymour')]\n"
     ]
    }
   ],
   "source": [
    "# 找出与Toby品位匹配最高的3个人\n",
    "sim_pearson(recommendations.critics, 'Toby', 'Lisa Rose')\n",
    "print topMatches(recommendations.critics, 'Toby')\n",
    "print topMatches(recommendations.critics, 'Toby', similarity=sim_pearson)"
   ]
  },
  {
   "cell_type": "markdown",
   "metadata": {},
   "source": [
    "可以看到不同的相似性分析方法，得到的结果也是不一样的，而且感觉差异还是挺大的。\n",
    "## 2.3 推荐物品\n",
    "上面的例子，我们可以获得与自身品位相似的用户，可以通过查找他看过的电影来寻找我们感兴趣的电影。可是如果有一部电影没有被他们看过，而我们又刚好感兴趣时该怎么办呢。这时就需要一个方法把所有感兴趣的电影列出来。采用的计算方法是以每个人的相似度为权重系数，乘以该人对电影的评分得到一个经过矫正后的评分，再把这些人的矫正评分求和。为了防止因为某部电影因为评论人数多而对结果造成影响，还需要把矫正评分的求和结果除以每人相似度的求和。"
   ]
  },
  {
   "cell_type": "code",
   "execution_count": 32,
   "metadata": {
    "collapsed": true
   },
   "outputs": [],
   "source": [
    "def getRecommendations(prefs, person, similarity=sim_pearson):\n",
    "    totals = {}\n",
    "    simSums = {}\n",
    "    for other in prefs:\n",
    "        if other == person:\n",
    "            continue\n",
    "        sim = similarity(prefs, person, other)\n",
    "        \n",
    "        if sim<=0:\n",
    "            continue\n",
    "        for item in prefs[other]:\n",
    "            if item not in prefs[person] or prefs[person][item] == 0:\n",
    "                totals.setdefault(item,0)\n",
    "                totals[item]+=prefs[other][item]*sim\n",
    "                simSums.setdefault(item,0)\n",
    "                simSums[item]+=sim\n",
    "    rankings=[(total/simSums[item], item) for item, total in totals.items()]\n",
    "    rankings.sort()\n",
    "    rankings.reverse()\n",
    "    return rankings"
   ]
  },
  {
   "cell_type": "code",
   "execution_count": 33,
   "metadata": {
    "collapsed": false
   },
   "outputs": [
    {
     "data": {
      "text/plain": [
       "[(3.3477895267131013, 'The Night Listener'),\n",
       " (2.8325499182641614, 'Lady in the Water'),\n",
       " (2.5309807037655645, 'Just My Luck')]"
      ]
     },
     "execution_count": 33,
     "metadata": {},
     "output_type": "execute_result"
    }
   ],
   "source": [
    "getRecommendations(recommendations.critics, 'Toby')"
   ]
  },
  {
   "cell_type": "markdown",
   "metadata": {},
   "source": [
    "上面得到的列表，我们可以理解成Toby对没看过的电影可能打出的评分。打分高的电影，当然更适合Toby的口味。"
   ]
  },
  {
   "cell_type": "markdown",
   "metadata": {},
   "source": [
    "## 2.4 匹配物品  \n",
    "前面我们已经知道如何查找品位相似的人，下面是想找相似商品。大体的思路是把前面推荐人的算法里面，把人和物品的位置交换一下。首先需要把`recommendations.critics`里面保存的信息转换一下。"
   ]
  },
  {
   "cell_type": "code",
   "execution_count": 36,
   "metadata": {
    "collapsed": true
   },
   "outputs": [],
   "source": [
    "def transformPrefs(prefs):\n",
    "    result={}\n",
    "    for person in prefs:\n",
    "        for item in prefs[person]:\n",
    "            result.setdefault(item,{})\n",
    "            result[item][person] = prefs[person][item]\n",
    "    return result       "
   ]
  },
  {
   "cell_type": "code",
   "execution_count": 44,
   "metadata": {
    "collapsed": false
   },
   "outputs": [
    {
     "name": "stdout",
     "output_type": "stream",
     "text": [
      "[(0.6579516949597695, 'You, Me and Dupree'), (0.4879500364742689, 'Lady in the Water'), (0.11180339887498941, 'Snakes on a Plane'), (-0.1798471947990544, 'The Night Listener'), (-0.42289003161103106, 'Just My Luck')]\n",
      "[(4.0, 'Michael Phillips'), (3.0, 'Jack Matthews')]\n"
     ]
    }
   ],
   "source": [
    "movies = transformPrefs(recommendations.critics)\n",
    "#print movies\n",
    "print topMatches(movies, 'Superman Returns', similarity=sim_pearson)\n",
    "print getRecommendations(movies, 'Just My Luck')\n"
   ]
  },
  {
   "cell_type": "markdown",
   "metadata": {},
   "source": [
    "书上说，把人和物品对调并不是总能得到有意义的结果，但多大数情况下有助于我们做出有意义的对比。"
   ]
  },
  {
   "cell_type": "markdown",
   "metadata": {},
   "source": [
    "## 2.5 构建基于del.icio.us的链接推荐系统\n",
    "[Delicious](https://del.icio.us/)是一个链接推荐网站，你需要把你感兴趣的链接张贴上去，然后会给你推荐你可能感兴趣的链接。主要思路类似上面的物品推荐功能。  \n",
    "这里我们直接利用现成的Python API来获取数据，在下面的代码，直接导入。Del.icio.us网站的api发生更改，原来的`pydelicious.py`不能正常使用。"
   ]
  },
  {
   "cell_type": "code",
   "execution_count": null,
   "metadata": {
    "collapsed": false
   },
   "outputs": [],
   "source": [
    "import pydelicious\n",
    "pydelicious.get_popular(tag='programming')\n",
    "print 'done'"
   ]
  },
  {
   "cell_type": "markdown",
   "metadata": {},
   "source": [
    "## 2.6 基于物品的过滤\n",
    "前面的我们都是基于用户信息来提供推荐信息，对于用户和物品数量不大的情况没有问题。但对于有大量用户和物品的情况下，频繁地进行比对用户之间的关系会造成很大的计算开销和时间耗费。上面提供的方法被称为**基于用户的协作型过滤**，还有另外一种是**基于物品的协作型过滤**。在数据量很大的情况下，基于物品的协作型过滤能够做得更好，书上提到的原因是可以把物品之间的关系提前计算好，这样在需要给用户提供推荐的时候，能够直接从之前的计算结果中找到相关计算结果，后续计算的时耗也会很少，能够快速的为用户提供推荐。  \n",
    "基于物品的协作型过滤主要思路是先计算好物品间的相似性，找出排名靠前的物品。当需要向客户提供推荐物品的时候，可以根据已经评分过的物品，找出与这些物品相似性排名靠前的物品，以它们之间的相似度为权重，获得一个用户对这些相似物品的可能评价值，可能评价值之和再除于相似物品间的相似度之各（这里计算过程有些类似前面为客户提供推荐物品，也需要权重和矫正，不同的是前面我们构造的矩阵是物品与用户之间的评价关系，这里是物种与物种的相似度关系）。"
   ]
  },
  {
   "cell_type": "code",
   "execution_count": 4,
   "metadata": {
    "collapsed": false
   },
   "outputs": [],
   "source": [
    "def calculateSimilarItems(prefs,n=10):\n",
    "  # Create a dictionary of items showing which other items they\n",
    "  # are most similar to.\n",
    "  result={}\n",
    "  # Invert the preference matrix to be item-centric\n",
    "  itemPrefs=transformPrefs(prefs)\n",
    "  c=0\n",
    "  for item in itemPrefs:\n",
    "    # Status updates for large datasets\n",
    "    c+=1\n",
    "    if c%100==0: print \"%d / %d\" % (c,len(itemPrefs))\n",
    "    # Find the most similar items to this one\n",
    "    scores=topMatches(itemPrefs,item,n=n,similarity=sim_distance)\n",
    "    result[item]=scores\n",
    "  return result"
   ]
  },
  {
   "cell_type": "markdown",
   "metadata": {},
   "source": [
    "当用户数量和评分数不是很大的时候，需要频繁的运行该函数以得到一个比较准确的相似性结果。随着用户和评分数量不断增加后物品间的相似度评价值会变得越来越稳定。"
   ]
  },
  {
   "cell_type": "code",
   "execution_count": 5,
   "metadata": {
    "collapsed": false
   },
   "outputs": [
    {
     "data": {
      "text/plain": [
       "[(3.182634730538922, 'The Night Listener'),\n",
       " (2.5983318700614575, 'Just My Luck'),\n",
       " (2.4730878186968837, 'Lady in the Water')]"
      ]
     },
     "execution_count": 5,
     "metadata": {},
     "output_type": "execute_result"
    }
   ],
   "source": [
    "reload(recommendations)\n",
    "itemsim = recommendations.calculateSimilarItems(recommendations.critics)\n",
    "recommendations.getRecommendedItems(recommendations.critics, itemsim, 'Toby')"
   ]
  },
  {
   "cell_type": "markdown",
   "metadata": {},
   "source": [
    "## 2.7 使用MovieLens数据集  \n",
    "数据下载[链接](http://files.grouplens.org/datasets/movielens/ml-20m.zip)，数据集大小为10万个左右。"
   ]
  },
  {
   "cell_type": "code",
   "execution_count": 3,
   "metadata": {
    "collapsed": false
   },
   "outputs": [],
   "source": [
    "reload(recommendations)\n",
    "prefs=recommendations.loadMovieLens()"
   ]
  },
  {
   "cell_type": "code",
   "execution_count": 4,
   "metadata": {
    "collapsed": false
   },
   "outputs": [
    {
     "data": {
      "text/plain": [
       "[(5.000000000000001, 'Loser Takes All! (Qui perd gagne !) (2003)'),\n",
       " (5.0, 'Yumeji (1991)'),\n",
       " (5.0, 'Year Zero: The Silent Death of Cambodia (1979)'),\n",
       " (5.0, 'Who Killed Vincent Chin? (1987)'),\n",
       " (5.0, 'When I Walk (2013)'),\n",
       " (5.0, 'Welcome to Australia (1999)'),\n",
       " (5.0, 'Weeds (1987)'),\n",
       " (5.0, 'Two Women (2000)'),\n",
       " (5.0, 'Tumannost Andromedy (1967)'),\n",
       " (5.0, 'Tis kakomoiras (1963)')]"
      ]
     },
     "execution_count": 4,
     "metadata": {},
     "output_type": "execute_result"
    }
   ],
   "source": [
    "recommendations.getRecommendations(prefs, '87')[0:10]"
   ]
  },
  {
   "cell_type": "code",
   "execution_count": 5,
   "metadata": {
    "collapsed": false
   },
   "outputs": [
    {
     "name": "stdout",
     "output_type": "stream",
     "text": [
      "100 / 26212\n",
      "200 / 26212\n",
      "300 / 26212\n",
      "400 / 26212\n",
      "500 / 26212\n",
      "600 / 26212\n",
      "700 / 26212\n",
      "800 / 26212\n",
      "900 / 26212\n",
      "1000 / 26212\n",
      "1100 / 26212\n",
      "1200 / 26212\n",
      "1300 / 26212\n",
      "1400 / 26212\n",
      "1500 / 26212\n",
      "1600 / 26212\n",
      "1700 / 26212\n",
      "1800 / 26212\n",
      "1900 / 26212\n",
      "2000 / 26212\n",
      "2100 / 26212\n",
      "2200 / 26212\n",
      "2300 / 26212\n",
      "2400 / 26212\n",
      "2500 / 26212\n",
      "2600 / 26212\n",
      "2700 / 26212\n",
      "2800 / 26212\n",
      "2900 / 26212\n",
      "3000 / 26212\n",
      "3100 / 26212\n",
      "3200 / 26212\n",
      "3300 / 26212\n",
      "3400 / 26212\n",
      "3500 / 26212\n",
      "3600 / 26212\n",
      "3700 / 26212\n"
     ]
    },
    {
     "ename": "KeyboardInterrupt",
     "evalue": "",
     "output_type": "error",
     "traceback": [
      "\u001b[0;31m---------------------------------------------------------------------------\u001b[0m",
      "\u001b[0;31mKeyboardInterrupt\u001b[0m                         Traceback (most recent call last)",
      "\u001b[0;32m<ipython-input-5-272a931605c9>\u001b[0m in \u001b[0;36m<module>\u001b[0;34m()\u001b[0m\n\u001b[0;32m----> 1\u001b[0;31m \u001b[0mitemsim\u001b[0m \u001b[0;34m=\u001b[0m \u001b[0mrecommendations\u001b[0m\u001b[0;34m.\u001b[0m\u001b[0mcalculateSimilarItems\u001b[0m\u001b[0;34m(\u001b[0m\u001b[0mprefs\u001b[0m\u001b[0;34m,\u001b[0m \u001b[0mn\u001b[0m\u001b[0;34m=\u001b[0m\u001b[0;36m50\u001b[0m\u001b[0;34m)\u001b[0m\u001b[0;34m\u001b[0m\u001b[0m\n\u001b[0m",
      "\u001b[0;32m/lustre/project/og02/linxingzhong/workspace/programming-collective-intelligence-ipynb/chapter2/recommendations.pyc\u001b[0m in \u001b[0;36mcalculateSimilarItems\u001b[0;34m(prefs, n)\u001b[0m\n\u001b[1;32m    134\u001b[0m     \u001b[0;32mif\u001b[0m \u001b[0mc\u001b[0m\u001b[0;34m%\u001b[0m\u001b[0;36m100\u001b[0m\u001b[0;34m==\u001b[0m\u001b[0;36m0\u001b[0m\u001b[0;34m:\u001b[0m \u001b[0;32mprint\u001b[0m \u001b[0;34m\"%d / %d\"\u001b[0m \u001b[0;34m%\u001b[0m \u001b[0;34m(\u001b[0m\u001b[0mc\u001b[0m\u001b[0;34m,\u001b[0m\u001b[0mlen\u001b[0m\u001b[0;34m(\u001b[0m\u001b[0mitemPrefs\u001b[0m\u001b[0;34m)\u001b[0m\u001b[0;34m)\u001b[0m\u001b[0;34m\u001b[0m\u001b[0m\n\u001b[1;32m    135\u001b[0m     \u001b[0;31m# Find the most similar items to this one\u001b[0m\u001b[0;34m\u001b[0m\u001b[0;34m\u001b[0m\u001b[0m\n\u001b[0;32m--> 136\u001b[0;31m     \u001b[0mscores\u001b[0m\u001b[0;34m=\u001b[0m\u001b[0mtopMatches\u001b[0m\u001b[0;34m(\u001b[0m\u001b[0mitemPrefs\u001b[0m\u001b[0;34m,\u001b[0m\u001b[0mitem\u001b[0m\u001b[0;34m,\u001b[0m\u001b[0mn\u001b[0m\u001b[0;34m=\u001b[0m\u001b[0mn\u001b[0m\u001b[0;34m,\u001b[0m\u001b[0msimilarity\u001b[0m\u001b[0;34m=\u001b[0m\u001b[0msim_distance\u001b[0m\u001b[0;34m)\u001b[0m\u001b[0;34m\u001b[0m\u001b[0m\n\u001b[0m\u001b[1;32m    137\u001b[0m     \u001b[0mresult\u001b[0m\u001b[0;34m[\u001b[0m\u001b[0mitem\u001b[0m\u001b[0;34m]\u001b[0m\u001b[0;34m=\u001b[0m\u001b[0mscores\u001b[0m\u001b[0;34m\u001b[0m\u001b[0m\n\u001b[1;32m    138\u001b[0m   \u001b[0;32mreturn\u001b[0m \u001b[0mresult\u001b[0m\u001b[0;34m\u001b[0m\u001b[0m\n",
      "\u001b[0;32m/lustre/project/og02/linxingzhong/workspace/programming-collective-intelligence-ipynb/chapter2/recommendations.pyc\u001b[0m in \u001b[0;36mtopMatches\u001b[0;34m(prefs, person, n, similarity)\u001b[0m\n\u001b[1;32m     75\u001b[0m \u001b[0;32mdef\u001b[0m \u001b[0mtopMatches\u001b[0m\u001b[0;34m(\u001b[0m\u001b[0mprefs\u001b[0m\u001b[0;34m,\u001b[0m\u001b[0mperson\u001b[0m\u001b[0;34m,\u001b[0m\u001b[0mn\u001b[0m\u001b[0;34m=\u001b[0m\u001b[0;36m5\u001b[0m\u001b[0;34m,\u001b[0m\u001b[0msimilarity\u001b[0m\u001b[0;34m=\u001b[0m\u001b[0msim_pearson\u001b[0m\u001b[0;34m)\u001b[0m\u001b[0;34m:\u001b[0m\u001b[0;34m\u001b[0m\u001b[0m\n\u001b[1;32m     76\u001b[0m   scores=[(similarity(prefs,person,other),other) \n\u001b[0;32m---> 77\u001b[0;31m                   for other in prefs if other!=person]\n\u001b[0m\u001b[1;32m     78\u001b[0m   \u001b[0mscores\u001b[0m\u001b[0;34m.\u001b[0m\u001b[0msort\u001b[0m\u001b[0;34m(\u001b[0m\u001b[0;34m)\u001b[0m\u001b[0;34m\u001b[0m\u001b[0m\n\u001b[1;32m     79\u001b[0m   \u001b[0mscores\u001b[0m\u001b[0;34m.\u001b[0m\u001b[0mreverse\u001b[0m\u001b[0;34m(\u001b[0m\u001b[0;34m)\u001b[0m\u001b[0;34m\u001b[0m\u001b[0m\n",
      "\u001b[0;32m/lustre/project/og02/linxingzhong/workspace/programming-collective-intelligence-ipynb/chapter2/recommendations.pyc\u001b[0m in \u001b[0;36msim_distance\u001b[0;34m(prefs, person1, person2)\u001b[0m\n\u001b[1;32m     34\u001b[0m   \u001b[0;31m# Add up the squares of all the differences\u001b[0m\u001b[0;34m\u001b[0m\u001b[0;34m\u001b[0m\u001b[0m\n\u001b[1;32m     35\u001b[0m   sum_of_squares=sum([pow(prefs[person1][item]-prefs[person2][item],2) \n\u001b[0;32m---> 36\u001b[0;31m                       for item in prefs[person1] if item in prefs[person2]])\n\u001b[0m\u001b[1;32m     37\u001b[0m \u001b[0;34m\u001b[0m\u001b[0m\n\u001b[1;32m     38\u001b[0m   \u001b[0;32mreturn\u001b[0m \u001b[0;36m1\u001b[0m\u001b[0;34m/\u001b[0m\u001b[0;34m(\u001b[0m\u001b[0;36m1\u001b[0m\u001b[0;34m+\u001b[0m\u001b[0msum_of_squares\u001b[0m\u001b[0;34m)\u001b[0m\u001b[0;34m\u001b[0m\u001b[0m\n",
      "\u001b[0;31mKeyboardInterrupt\u001b[0m: "
     ]
    }
   ],
   "source": [
    "# 这里的计算时间太长了，需要优化一下\n",
    "itemsim = recommendations.calculateSimilarItems(prefs, n=50)"
   ]
  }
 ],
 "metadata": {
  "kernelspec": {
   "display_name": "Python 2",
   "language": "python",
   "name": "python2"
  },
  "language_info": {
   "codemirror_mode": {
    "name": "ipython",
    "version": 2
   },
   "file_extension": ".py",
   "mimetype": "text/x-python",
   "name": "python",
   "nbconvert_exporter": "python",
   "pygments_lexer": "ipython2",
   "version": "2.7.10"
  }
 },
 "nbformat": 4,
 "nbformat_minor": 2
}
