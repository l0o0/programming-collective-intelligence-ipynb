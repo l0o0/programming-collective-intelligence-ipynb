{
 "cells": [
  {
   "cell_type": "markdown",
   "metadata": {},
   "source": [
    "# Chapter 3 发现群组\n",
    "物以类聚，人以群分，这里我们想学习如何利用事物间的联系而将它们进行分类。**数据聚类（data clustering）**是一种用以寻找紧密相关的事、人或观点，并将其可视化的方法。   \n",
    "在我们生物领域，经常把基因根据表达量信息来进行聚类，聚类得到的基因往往在生物学上有非常重要的意义。书中第一个例子是对博客用户所讨论的话题，以及他们使用的特殊词汇进行考查，根据文字的内容及用法分别进行分级；第二个例子是根据人们拥有和希望拥有的物品信息来对人群进行分类。\n",
    "开始前，介绍了**监督学习**和**无监督学习**的概念。**监督学习法（supervised learning methods）**是利用样本输入和期望输入来学习如何预测的方法，代表的有培养出网络、决策树、向量支持机、贝叶斯过滤等。**无监督学习（unsupervised learning）**也需要样品输入来进行预测，不过这里我们没有期望输出结果是怎样的，相反我们需要在一组数据中找出某种结构，适合进行探索性发现。有无监督这里可以简单看成对结果是否有相应的期望结果。无监督学习的包括聚类，负矩阵因式分解和自组织映射。\n",
    "## 3.1 博客用户进行分类\n",
    "在对博客用户进行分类时，我们分析这些博客用户的标题内容，根据内容的相似性进行分析。分析前，首先需要把这些文本信息转换成对应的数值型数据，这里书里采用的是分别统计单词在各个博客内容中出现的频数。目录中已经有文件`blogdata.txt`存储了词频信息，可以直接读取。详细获取过程可以参考书上内容和`generatefeedvector.py`。  \n",
    "聚类时先从单一元素开始（这里的元素可以看成初始群组），分别计算元素之间的联系，再把距离最近的两个元素当成一个群组。第二次计算前面得到的群组之间的联系（新组的值为旧组中值的平均值），再把距离相近的群组进行合并。一直循环，直到最后得到一个群组为止。这个过程可以利用**树状图**来进行展示。"
   ]
  },
  {
   "cell_type": "code",
   "execution_count": 1,
   "metadata": {
    "collapsed": true
   },
   "outputs": [],
   "source": [
    "def readfile(filename):\n",
    "    with open(filename) as handle:\n",
    "        lines = handle.readlines()\n",
    "    # 列名\n",
    "    colnames = lines[0].strip().split('\\t')[1:]\n",
    "    rownames = []\n",
    "    data = []\n",
    "    for line in lines[1:]:\n",
    "        p = line.strip().split('\\t')\n",
    "        rownames.append(p[0])\n",
    "        data.append([float(x) for x in p[1:]])\n",
    "    return rownames, colnames, data"
   ]
  },
  {
   "cell_type": "code",
   "execution_count": 2,
   "metadata": {
    "collapsed": true
   },
   "outputs": [],
   "source": [
    "# 计算Pearson相关性系数\n",
    "from math import sqrt\n",
    "def pearson(v1, v2):\n",
    "    sum1 = sum(v1)\n",
    "    sum2 = sum(v2)\n",
    "    \n",
    "    sum1Sq = sum([pow(v,2) for v in v1])\n",
    "    sum2Sq = sum([pow(v,2) for v in v2])\n",
    "    \n",
    "    pSum = sum([v1[i]*v2[i] for i in range(len(v1))])\n",
    "    \n",
    "    num = pSum - (sum1*sum2/len(v1))\n",
    "    den = sqrt((sum1Sq-pow(sum1,2)/len(v1))*(sum2Sq-pow(sum2,2)/len(v1)))\n",
    "    if den == 0:\n",
    "        return 0\n",
    "    return 1.0 - num/den\n"
   ]
  },
  {
   "cell_type": "code",
   "execution_count": 8,
   "metadata": {
    "collapsed": true
   },
   "outputs": [],
   "source": [
    "# 描述聚类结构的类\n",
    "class bicluster:\n",
    "    def __init__(self, vec, left=None, right=None, distance=0.0, id=None):\n",
    "        self.left = left\n",
    "        self.right = right\n",
    "        self.vec = vec\n",
    "        self.id = id\n",
    "        self.distance = distance\n",
    "        "
   ]
  },
  {
   "cell_type": "code",
   "execution_count": 14,
   "metadata": {
    "collapsed": true
   },
   "outputs": [],
   "source": [
    "def hcluster(rows, distance=pearson):\n",
    "    distances = {}\n",
    "    currentclustid = -1\n",
    "    \n",
    "    clust = [bicluster(j, id=i) for i,j in enumerate(rows)]\n",
    "    \n",
    "    while len(clust) > 1:\n",
    "        lowestpair = (0,1)\n",
    "        closest = pearson(clust[0].vec, clust[1].vec)\n",
    "        \n",
    "        for i in range(len(clust)):\n",
    "            for j in range(i+1, len(clust)):\n",
    "                # 书中这里pearson写成distance，需要注意一下\n",
    "                if (clust[i].id, clust[j].id) not in distances:\n",
    "                    d = pearson(clust[i].vec, clust[j].vec)\n",
    "                    distances[(clust[i].id, clust[j].id)] = d\n",
    "                d = distances[(clust[i].id, clust[j].id)]\n",
    "                \n",
    "                if d < closest:\n",
    "                    closest = d\n",
    "                    lowestpair = (i,j)\n",
    "        \n",
    "        mergevec = [\n",
    "            (clust[lowestpair[0]].vec[i]+ clust[lowestpair[1]].vec[i])/2.0  \n",
    "            for i in range(len(clust[0].vec))\n",
    "        ]\n",
    "        \n",
    "        newcluster = bicluster(mergevec, left=clust[lowestpair[0]],\n",
    "                               right = clust[lowestpair[1]],\n",
    "                               distance=closest, \n",
    "                               id = currentclustid\n",
    "                               )\n",
    "        \n",
    "        currentclustid -= 1\n",
    "        del clust[lowestpair[1]]\n",
    "        del clust[lowestpair[0]]\n",
    "        clust.append(newcluster)\n",
    "    \n",
    "    return clust[0]"
   ]
  },
  {
   "cell_type": "code",
   "execution_count": 4,
   "metadata": {
    "collapsed": true
   },
   "outputs": [],
   "source": [
    "blognames, words, data = readfile('blogdata.txt')"
   ]
  },
  {
   "cell_type": "code",
   "execution_count": 15,
   "metadata": {
    "collapsed": false
   },
   "outputs": [],
   "source": [
    "clust = hcluster(data)"
   ]
  },
  {
   "cell_type": "code",
   "execution_count": 21,
   "metadata": {
    "collapsed": false
   },
   "outputs": [],
   "source": [
    "def printclust(clust, labels=None, n=0):\n",
    "    for i in range(n):\n",
    "        print \" \",\n",
    "    if clust.id < 0:\n",
    "        print '-'\n",
    "    else:\n",
    "        if labels==None:\n",
    "            print clust.id\n",
    "        else:\n",
    "            print labels[clust.id]\n",
    "    \n",
    "    # 在函数内部调用自身，形成递归。clust的结构也是一种递归的结果\n",
    "    if clust.left !=None:\n",
    "        printclust(clust.left, labels=labels, n=n+1)\n",
    "    if clust.right != None:\n",
    "        printclust(clust.right, labels=labels, n=n+1)\n"
   ]
  },
  {
   "cell_type": "code",
   "execution_count": 22,
   "metadata": {
    "collapsed": false
   },
   "outputs": [
    {
     "name": "stdout",
     "output_type": "stream",
     "text": [
      "-\n",
      "  gapingvoid: \"cartoons drawn on the back of business cards\"\n",
      "  -\n",
      "    -\n",
      "      Schneier on Security\n",
      "      Instapundit.com\n",
      "    -\n",
      "      The Blotter\n",
      "      -\n",
      "        -\n",
      "          MetaFilter\n",
      "          -\n",
      "            SpikedHumor\n",
      "            -\n",
      "              Captain's Quarters\n",
      "              -\n",
      "                Michelle Malkin\n",
      "                -\n",
      "                  -\n",
      "                    NewsBusters.org - Exposing Liberal Media Bias\n",
      "                    -\n",
      "                      -\n",
      "                        Hot Air\n",
      "                        Crooks and Liars\n",
      "                      -\n",
      "                        Power Line\n",
      "                        Think Progress\n",
      "                  -\n",
      "                    Andrew Sullivan | The Daily Dish\n",
      "                    -\n",
      "                      Little Green Footballs\n",
      "                      -\n",
      "                        Eschaton\n",
      "                        -\n",
      "                          Talking Points Memo: by Joshua Micah Marshall\n",
      "                          Daily Kos\n",
      "        -\n",
      "          43 Folders\n",
      "          -\n",
      "            TechEBlog\n",
      "            -\n",
      "              -\n",
      "                Mashable!\n",
      "                Signum sine tinnitu--by Guy Kawasaki\n",
      "              -\n",
      "                -\n",
      "                  -\n",
      "                    Slashdot\n",
      "                    -\n",
      "                      MAKE Magazine\n",
      "                      Boing Boing\n",
      "                  -\n",
      "                    -\n",
      "                      Oilman\n",
      "                      -\n",
      "                        Online Marketing Report\n",
      "                        -\n",
      "                          Treehugger\n",
      "                          -\n",
      "                            SimpleBits\n",
      "                            -\n",
      "                              Cool Hunting\n",
      "                              -\n",
      "                                Steve Pavlina's Personal Development Blog\n",
      "                                -\n",
      "                                  -\n",
      "                                    ScienceBlogs : Combined Feed\n",
      "                                    Pharyngula\n",
      "                                  -\n",
      "                                    BuzzMachine\n",
      "                                    -\n",
      "                                      Copyblogger\n",
      "                                      -\n",
      "                                        -\n",
      "                                          The Viral Garden\n",
      "                                          Seth's Blog\n",
      "                                        -\n",
      "                                          -\n",
      "                                            Bloggers Blog: Blogging the Blogsphere\n",
      "                                            -\n",
      "                                              Sifry's Alerts\n",
      "                                              ProBlogger Blog Tips\n",
      "                                          -\n",
      "                                            -\n",
      "                                              Valleywag\n",
      "                                              Scobleizer - Tech Geek Blogger\n",
      "                                            -\n",
      "                                              -\n",
      "                                                O'Reilly Radar\n",
      "                                                456 Berea Street\n",
      "                                              -\n",
      "                                                Lifehacker\n",
      "                                                -\n",
      "                                                  Quick Online Tips\n",
      "                                                  -\n",
      "                                                    Publishing 2.0\n",
      "                                                    -\n",
      "                                                      Micro Persuasion\n",
      "                                                      -\n",
      "                                                        A Consuming Experience (full feed)\n",
      "                                                        -\n",
      "                                                          John Battelle's Searchblog\n",
      "                                                          -\n",
      "                                                            Search Engine Watch Blog\n",
      "                                                            -\n",
      "                                                              Read/WriteWeb\n",
      "                                                              -\n",
      "                                                                Official Google Blog\n",
      "                                                                -\n",
      "                                                                  Search Engine Roundtable\n",
      "                                                                  -\n",
      "                                                                    Google Operating System\n",
      "                                                                    Google Blogoscoped\n",
      "                    -\n",
      "                      -\n",
      "                        -\n",
      "                          -\n",
      "                            Blog Maverick\n",
      "                            -\n",
      "                              Download Squad\n",
      "                              -\n",
      "                                CoolerHeads Prevail\n",
      "                                -\n",
      "                                  Joystiq\n",
      "                                  The Unofficial Apple Weblog (TUAW)\n",
      "                          -\n",
      "                            Autoblog\n",
      "                            -\n",
      "                              Engadget\n",
      "                              TMZ.com\n",
      "                        -\n",
      "                          Matt Cutts: Gadgets, Google, and SEO\n",
      "                          -\n",
      "                            PaulStamatiou.com\n",
      "                            -\n",
      "                              -\n",
      "                                GigaOM\n",
      "                                TechCrunch\n",
      "                              -\n",
      "                                -\n",
      "                                  Techdirt\n",
      "                                  Creating Passionate Users\n",
      "                                -\n",
      "                                  Joho the Blog\n",
      "                                  -\n",
      "                                    -\n",
      "                                      PerezHilton.com\n",
      "                                      Jeremy Zawodny's blog\n",
      "                                    -\n",
      "                                      Joi Ito's Web\n",
      "                                      -\n",
      "                                        ongoing\n",
      "                                        -\n",
      "                                          Joel on Software\n",
      "                                          -\n",
      "                                            -\n",
      "                                              we make money not art\n",
      "                                              -\n",
      "                                                plasticbag.org\n",
      "                                                -\n",
      "                                                  Signal vs. Noise\n",
      "                                                  -\n",
      "                                                    kottke.org\n",
      "                                                    -\n",
      "                                                      Neil Gaiman's Journal\n",
      "                                                      -\n",
      "                                                        -\n",
      "                                                          The Huffington Post | Raw Feed\n",
      "                                                          -\n",
      "                                                            Wonkette\n",
      "                                                            -\n",
      "                                                              Gawker\n",
      "                                                              -\n",
      "                                                                The Superficial - Because You're Ugly\n",
      "                                                                Go Fug Yourself\n",
      "                                                        -\n",
      "                                                          Deadspin\n",
      "                                                          Gothamist\n",
      "                                            -\n",
      "                                              Kotaku\n",
      "                                              Gizmodo\n",
      "                      -\n",
      "                        Shoemoney - Skills to pay the bills\n",
      "                        -\n",
      "                          flagrantdisregard\n",
      "                          -\n",
      "                            WWdN: In Exile\n",
      "                            -\n",
      "                              Derek Powazek\n",
      "                              -\n",
      "                                lifehack.org\n",
      "                                Dave Shea's mezzoblue\n",
      "                -\n",
      "                  Wired News: Top Stories\n",
      "                  -\n",
      "                    Topix.net Weblog\n",
      "                    Bloglines | News\n"
     ]
    }
   ],
   "source": [
    "printclust(clust, labels=blognames)"
   ]
  },
  {
   "cell_type": "code",
   "execution_count": 24,
   "metadata": {
    "collapsed": false
   },
   "outputs": [
    {
     "data": {
      "text/plain": [
       "(-98,\n",
       " <__main__.bicluster instance at 0x7f44df6b1488>,\n",
       " <__main__.bicluster instance at 0x7f44d83be8c0>)"
      ]
     },
     "execution_count": 24,
     "metadata": {},
     "output_type": "execute_result"
    }
   ],
   "source": [
    "clust.id, clust.left, clust.right"
   ]
  },
  {
   "cell_type": "markdown",
   "metadata": {},
   "source": [
    "## 3.2 对聚类结果进行可视化\n",
    "上面虽然已经打印出了博客聚类的结果，不过还不够直观。书上又重新想画一个树状图来展示聚类结果。这里利用的PIL（Python Image Library）模块，可以尝试用`pip install PIL`进行安装。  \n",
    "我们需要在一个将聚类结果画在一个图上，首先需要获得聚类的总体高度，如果这个聚类没有分支，则高度为1，其他为各分支高度之和。"
   ]
  },
  {
   "cell_type": "code",
   "execution_count": 25,
   "metadata": {
    "collapsed": true
   },
   "outputs": [],
   "source": [
    "def getheight(clust):\n",
    "    if clust.left == None and clust.right == None:\n",
    "        return 1\n",
    "    return getheight(clust.left) + getheight(clust.right)"
   ]
  },
  {
   "cell_type": "code",
   "execution_count": 26,
   "metadata": {
    "collapsed": false
   },
   "outputs": [
    {
     "data": {
      "text/plain": [
       "99"
      ]
     },
     "execution_count": 26,
     "metadata": {},
     "output_type": "execute_result"
    }
   ],
   "source": [
    "getheight(clust)"
   ]
  },
  {
   "cell_type": "code",
   "execution_count": 27,
   "metadata": {
    "collapsed": true
   },
   "outputs": [],
   "source": [
    "def getdepth(clust):\n",
    "    if clust.left == None and clust.right == None:\n",
    "        return 0.0\n",
    "    return max(getdepth(clust.left), getdepth(clust.right)) + clust.distance"
   ]
  },
  {
   "cell_type": "code",
   "execution_count": 29,
   "metadata": {
    "collapsed": false,
    "scrolled": true
   },
   "outputs": [
    {
     "data": {
      "text/plain": [
       "(23.188162327170954, 0.9960012161819306)"
      ]
     },
     "execution_count": 29,
     "metadata": {},
     "output_type": "execute_result"
    }
   ],
   "source": [
    "getdepth(clust), clust.distance"
   ]
  },
  {
   "cell_type": "code",
   "execution_count": 30,
   "metadata": {
    "collapsed": true
   },
   "outputs": [],
   "source": [
    "from PIL import Image, ImageDraw"
   ]
  },
  {
   "cell_type": "code",
   "execution_count": 31,
   "metadata": {
    "collapsed": true
   },
   "outputs": [],
   "source": [
    "def drawnode(draw, clust, x, y, scaling, labels):\n",
    "    if clust.id < 0:\n",
    "        h1 = getheight(clust.left) * 20\n",
    "        h2 = getheight(clust.right) * 20\n",
    "        top = y - (h1+h2)/2\n",
    "        bottom = y+(h1+h2)/2\n",
    "        # 线的长度\n",
    "        ll = clust.distance*scaling\n",
    "        # 聚类到其子节点的垂直线\n",
    "        draw.line((x, top + h1/2, x, bottom-h2/2), fill=(255,0,0))\n",
    "        # 连接左侧节点的水平线\n",
    "        draw.line((x, top+h1/2, x+ll, top+h1/2), fill=(255,0,0))\n",
    "        # 连接右侧节点的水平线\n",
    "        draw.line((x, bottom-h2/2, x+ll, bottom-h2/2), fill=(255,0,0))\n",
    "        \n",
    "        # 调用函数绘制左右节点\n",
    "        drawnode(draw, clust.left, x+ll, top+h1/2, scaling, labels)\n",
    "        drawnode(draw, clust.right, x+ll, bottom-h2/2, scaling, labels)\n",
    "    else:\n",
    "        draw.text((x+5, y-7), labels[clust.id], (0,0,0))\n",
    "        \n",
    "        "
   ]
  },
  {
   "cell_type": "code",
   "execution_count": 32,
   "metadata": {
    "collapsed": true
   },
   "outputs": [],
   "source": [
    "def drawdendrogram(clust, labels, jpeg='clusters.jpg'):\n",
    "    # 这里设置了图片的长宽，depth相当于x轴方向，表示距离的大小\n",
    "    h = getheight(clust) * 20\n",
    "    w = 1200\n",
    "    depth = getdepth(clust)\n",
    "    \n",
    "    scaling = float(w-150)/depth\n",
    "    \n",
    "    img = Image.new('RGB', (w,h), (255,255,255))\n",
    "    draw = ImageDraw.Draw(img)\n",
    "    \n",
    "    draw.line((0, h/2, 10, h/2), fill=(255,0,0))\n",
    "    \n",
    "    drawnode(draw, clust, 10, (h/2), scaling, labels)\n",
    "    img.save(jpeg, 'JPEG')"
   ]
  },
  {
   "cell_type": "code",
   "execution_count": 33,
   "metadata": {
    "collapsed": true
   },
   "outputs": [],
   "source": [
    "drawdendrogram(clust, blognames, jpeg=\"blogclust.jpg\")"
   ]
  },
  {
   "cell_type": "markdown",
   "metadata": {},
   "source": [
    "## 3.3 对列聚类\n",
    "上面我们对博客进行了聚类，这里我们换一个方向，置换一下数据，对出现的词汇进行聚类，看会有什么结果"
   ]
  },
  {
   "cell_type": "code",
   "execution_count": 39,
   "metadata": {
    "collapsed": true
   },
   "outputs": [],
   "source": [
    "def rotatematrix(data):\n",
    "    return [[data[i][j] for i in range(len(a))] for j in range(len(data[0]))]"
   ]
  },
  {
   "cell_type": "code",
   "execution_count": 43,
   "metadata": {
    "collapsed": true
   },
   "outputs": [],
   "source": [
    "rdata = rotatematrix(data)\n",
    "wordclust = hcluster(rdata)\n",
    "drawdendrogram(wordclust, labels=words, jpeg='wordclust.jpg')"
   ]
  },
  {
   "cell_type": "markdown",
   "metadata": {},
   "source": [
    "## 3.4 K-means均值聚类  \n",
    "层次聚类的方法有两个缺点：\n",
    "1. 在没有额外投入的情况下，树形图是不会真正将数据分成不同的分组  \n",
    "2. 需要计算两两之间的相似性，计算量比较大    \n",
    "\n",
    "这里K-means聚类就可以避免上面的情况了，在计算前，我们会提前告知需要分成几个小组，然后程序会随机先生成*k*个中心位置，然后将各个数据点分配到最临近的中心点，之后再重新计算中心位置，之后又重新进行新一轮的分配，直到分配结果不会发生变化为止。\n"
   ]
  },
  {
   "cell_type": "code",
   "execution_count": null,
   "metadata": {
    "collapsed": true
   },
   "outputs": [],
   "source": [
    "import random\n",
    "def kcluster(rows, distance=pearson, k=4):\n",
    "    ranges = [(min([row[i] for row in rows]), max([row[i] for row in rows]))  \n",
    "            for i in range(len(rows[0]))]\n",
    "    clusters = [[random.random()*(ranges[i][1]-ranges[i][0]) + ranges[i][0]\n",
    "                for i in range(len(rows[0]))] \n",
    "               for j in range(k)]\n",
    "    lastmatches = None\n",
    "    for t in range(100):\n",
    "        print \"Iteration %d\" % t\n",
    "        bestmatches = [[] for i in range(k)]\n",
    "    \n",
    "    for j in range(len(rows)):\n",
    "        row = rows[j]\n",
    "        bestmatch = 0\n",
    "        for i in range(k):\n",
    "            d = distance(clusters[i], row)\n",
    "            if d < distance(clusters[bestmatch], row):\n",
    "                bestmatch = i\n",
    "        bestmatches[bestmatch].append(j)\n",
    "        \n",
    "    if bestmatches == lastmatches:\n",
    "        break\n",
    "    \n",
    "    lastmatches = bestmatches\n",
    "    \n",
    "    for i in range(k):\n",
    "        avgs = [0,0] * len(rows[0])\n",
    "        "
   ]
  }
 ],
 "metadata": {
  "kernelspec": {
   "display_name": "Python 2",
   "language": "python",
   "name": "python2"
  },
  "language_info": {
   "codemirror_mode": {
    "name": "ipython",
    "version": 2
   },
   "file_extension": ".py",
   "mimetype": "text/x-python",
   "name": "python",
   "nbconvert_exporter": "python",
   "pygments_lexer": "ipython2",
   "version": "2.7.10"
  }
 },
 "nbformat": 4,
 "nbformat_minor": 1
}
